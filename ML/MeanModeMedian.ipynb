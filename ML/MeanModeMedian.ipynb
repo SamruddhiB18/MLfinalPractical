{
 "cells": [
  {
   "cell_type": "code",
   "execution_count": 1,
   "metadata": {},
   "outputs": [
    {
     "name": "stdout",
     "output_type": "stream",
     "text": [
      "Mean =  3.8333333333333335\n"
     ]
    }
   ],
   "source": [
    "#Write a python program to find out mean,mode and median for the dataset num=[2,3,4,5,7,2] \n",
    "# 1] MEAN\n",
    "import numpy as np\n",
    "\n",
    "num = [2,3,4,5,7,2]\n",
    "\n",
    "print('Mean = ',np.average(num))"
   ]
  },
  {
   "cell_type": "code",
   "execution_count": 2,
   "metadata": {},
   "outputs": [
    {
     "name": "stdout",
     "output_type": "stream",
     "text": [
      "Mode =2\n"
     ]
    }
   ],
   "source": [
    "# 2] MODE\n",
    "\n",
    "from collections import Counter\n",
    "\n",
    "num=[2,3,4,5,7,2]\n",
    "no= len(num)\n",
    "val= Counter(num)\n",
    "findMode = dict(val)\n",
    "mode=[i for i,v in findMode.items() if v==max(list(val.values()))]\n",
    "if(len(mode)) ==no:\n",
    "    findMode=\"The group of number do not have any mode\"\n",
    "else:\n",
    "    findMode=\"Mode =\"+','.join(map(str,mode))\n",
    "print(findMode)"
   ]
  },
  {
   "cell_type": "code",
   "execution_count": 3,
   "metadata": {},
   "outputs": [
    {
     "name": "stdout",
     "output_type": "stream",
     "text": [
      "mode= 2\n"
     ]
    }
   ],
   "source": [
    "import statistics\n",
    "\n",
    "num=[2,3,4,5,7,2]\n",
    "print('mode=',statistics.mode(num))"
   ]
  },
  {
   "cell_type": "code",
   "execution_count": 4,
   "metadata": {},
   "outputs": [
    {
     "name": "stdout",
     "output_type": "stream",
     "text": [
      "Median= 3.5\n"
     ]
    }
   ],
   "source": [
    "# 3] MEDIAN\n",
    "num=[2,3,4,5,7,2]\n",
    "n=len(num)\n",
    "num.sort()\n",
    "if n%2==0:\n",
    "    median1=num[n//2]\n",
    "    median2=num[n//2-1]\n",
    "    median=(median1+median2)/2\n",
    "else:\n",
    "    median=num(n//2)\n",
    "\n",
    "print('Median=',str(median))"
   ]
  }
 ],
 "metadata": {
  "kernelspec": {
   "display_name": "Python 3",
   "language": "python",
   "name": "python3"
  },
  "language_info": {
   "codemirror_mode": {
    "name": "ipython",
    "version": 3
   },
   "file_extension": ".py",
   "mimetype": "text/x-python",
   "name": "python",
   "nbconvert_exporter": "python",
   "pygments_lexer": "ipython3",
   "version": "3.7.6"
  }
 },
 "nbformat": 4,
 "nbformat_minor": 4
}
