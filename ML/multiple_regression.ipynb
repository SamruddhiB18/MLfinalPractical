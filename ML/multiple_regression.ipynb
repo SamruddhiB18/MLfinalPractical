{
 "cells": [
  {
   "cell_type": "code",
   "execution_count": 4,
   "metadata": {},
   "outputs": [
    {
     "name": "stdout",
     "output_type": "stream",
     "text": [
      "Predicted CO2 =  [107.2087328]\n"
     ]
    }
   ],
   "source": [
    "    #Write a python program to Implement Multiple Regression for predicting CO2 emission of the car\n",
    "    #given the weight and volume (multiple.csv).  \n",
    "    \n",
    "    import pandas as pd\n",
    "    from sklearn import linear_model\n",
    "    \n",
    "    df= pd.read_csv(\"multiple.csv\")\n",
    "    \n",
    "    x=df[['Weight','Volume']]\n",
    "    y=df['CO2']\n",
    "    \n",
    "    model= linear_model.LinearRegression()\n",
    "    model.fit(x,y)\n",
    "    \n",
    "    #prediction case weight=2300 kg vol=1300 cm^abs3\n",
    "    \n",
    "    pred_co2=model.predict([[2300,1300]])\n",
    "    \n",
    "    print(\"Predicted CO2 = \",pred_co2)"
   ]
  }
 ],
 "metadata": {
  "kernelspec": {
   "display_name": "Python 3",
   "language": "python",
   "name": "python3"
  },
  "language_info": {
   "codemirror_mode": {
    "name": "ipython",
    "version": 3
   },
   "file_extension": ".py",
   "mimetype": "text/x-python",
   "name": "python",
   "nbconvert_exporter": "python",
   "pygments_lexer": "ipython3",
   "version": "3.7.6"
  }
 },
 "nbformat": 4,
 "nbformat_minor": 4
}
