{
 "cells": [
  {
   "cell_type": "code",
   "execution_count": 3,
   "metadata": {},
   "outputs": [
    {
     "name": "stdout",
     "output_type": "stream",
     "text": [
      "Variance= 3.14\n"
     ]
    }
   ],
   "source": [
    "#Write a python program to find out variance and deviation for the dataset num=[2,3,4,5,7,2] \n",
    "#1] Variance\n",
    "import numpy as np\n",
    "num =[2,3,4,5,7,2]\n",
    "print('Variance=',round(np.var(num),2))"
   ]
  },
  {
   "cell_type": "code",
   "execution_count": 7,
   "metadata": {},
   "outputs": [
    {
     "name": "stdout",
     "output_type": "stream",
     "text": [
      "Standard Deviation= 1.77\n"
     ]
    }
   ],
   "source": [
    "#2] Standard Deviation\n",
    "import numpy as np\n",
    "num=[2,3,4,5,7,2]\n",
    "print('Standard Deviation=',round(np.std(num),2))"
   ]
  },
  {
   "cell_type": "code",
   "execution_count": 8,
   "metadata": {},
   "outputs": [
    {
     "name": "stdout",
     "output_type": "stream",
     "text": [
      "Mean= 3.83\n"
     ]
    }
   ],
   "source": [
    "#3] Mean\n",
    "import numpy as np\n",
    "num=[2,3,4,5,7,2]\n",
    "print('Mean=',round(np.average(num),2))"
   ]
  },
  {
   "cell_type": "code",
   "execution_count": 9,
   "metadata": {},
   "outputs": [
    {
     "name": "stdout",
     "output_type": "stream",
     "text": [
      "Mode= 2\n"
     ]
    }
   ],
   "source": [
    "#4] Mode\n",
    "import statistics as st\n",
    "num=[2,3,4,5,7,2]\n",
    "print('Mode=',round(st.mode(num),2))"
   ]
  },
  {
   "cell_type": "code",
   "execution_count": 10,
   "metadata": {},
   "outputs": [
    {
     "name": "stdout",
     "output_type": "stream",
     "text": [
      "Median= 3.5\n"
     ]
    }
   ],
   "source": [
    "#5] Median\n",
    "import statistics as st\n",
    "num=[2,3,4,5,7,2]\n",
    "print('Median=',round(st.median(num),2))"
   ]
  }
 ],
 "metadata": {
  "kernelspec": {
   "display_name": "Python 3",
   "language": "python",
   "name": "python3"
  },
  "language_info": {
   "codemirror_mode": {
    "name": "ipython",
    "version": 3
   },
   "file_extension": ".py",
   "mimetype": "text/x-python",
   "name": "python",
   "nbconvert_exporter": "python",
   "pygments_lexer": "ipython3",
   "version": "3.7.6"
  }
 },
 "nbformat": 4,
 "nbformat_minor": 4
}
