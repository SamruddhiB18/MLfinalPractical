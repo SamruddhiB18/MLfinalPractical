{
 "cells": [
  {
   "cell_type": "code",
   "execution_count": 2,
   "metadata": {},
   "outputs": [
    {
     "name": "stdout",
     "output_type": "stream",
     "text": [
      "[['Asset Flip' '100' '1000']\n",
      " ['Text Based' '500' '3000']\n",
      " ['Visual Novel' '1500' '5000']\n",
      " ['2D Pixel Art' '3500' '8000']\n",
      " ['2D Vector Art' '5000' '6500']\n",
      " ['Strategy' '6000' '7000']\n",
      " ['First Person Shooter' '8000' '15000']\n",
      " ['Simulator' '9500' '20000']\n",
      " ['Racing' '12000' '21000']\n",
      " ['RPG' '14000' '25000']\n",
      " ['Sandbox' '15500' '27000']\n",
      " ['Open-World' '16500' '30000']\n",
      " ['MMOFPS' '25000' '52000']\n",
      " ['MMORPG' '30000' '80000']]\n"
     ]
    }
   ],
   "source": [
    "#Write a python program to implement prediction of Profit to Production Cost using Decision Tree Regression for below data: \n",
    "#[['Asset Flip', 100, 1000],['Text Based', 500, 3000],['Visual Novel', 1500,5000],['2D Pixel Art', 3500, 8000],['2D Vector Art', 5000, 6500],['Strategy', 6000, 7000],['First Person Shooter', 8000, 15000],['Simulator', 9500, 20000],['Racing', 12000, 21000],['RPG', 14000, 25000],['Sandbox', 15500, 27000],['Open-World', 16500, 30000],['MMOFPS', 25000, 52000],['MMORPG', 30000, 80000]] \n",
    "\n",
    "#step 1: Import required libraries\n",
    "import numpy as np\n",
    "import matplotlib.pyplot as plt\n",
    "import pandas as pd\n",
    "\n",
    "#step 2: initialize and print dataset\n",
    "dataset = np.array(\n",
    "    [['Asset Flip', 100, 1000],\n",
    "    ['Text Based', 500, 3000],\n",
    "    ['Visual Novel', 1500,5000],\n",
    "    ['2D Pixel Art', 3500, 8000],\n",
    "    ['2D Vector Art', 5000, 6500],\n",
    "    ['Strategy', 6000, 7000],\n",
    "    ['First Person Shooter', 8000, 15000],\n",
    "    ['Simulator', 9500, 20000],\n",
    "    ['Racing', 12000, 21000],\n",
    "    ['RPG', 14000, 25000],\n",
    "    ['Sandbox', 15500, 27000],\n",
    "    ['Open-World', 16500, 30000],\n",
    "    ['MMOFPS', 25000, 52000],\n",
    "    ['MMORPG', 30000, 80000]\n",
    "    ])\n",
    "\n",
    "#print dataset\n",
    "print(dataset)"
   ]
  },
  {
   "cell_type": "code",
   "execution_count": 3,
   "metadata": {},
   "outputs": [
    {
     "name": "stdout",
     "output_type": "stream",
     "text": [
      "[[  100]\n",
      " [  500]\n",
      " [ 1500]\n",
      " [ 3500]\n",
      " [ 5000]\n",
      " [ 6000]\n",
      " [ 8000]\n",
      " [ 9500]\n",
      " [12000]\n",
      " [14000]\n",
      " [15500]\n",
      " [16500]\n",
      " [25000]\n",
      " [30000]]\n"
     ]
    }
   ],
   "source": [
    "#Step 3: Select all rows and col1 from dtataset to 'X'\n",
    "X= dataset[:,1:2].astype(int)\n",
    "\n",
    "print(X)"
   ]
  },
  {
   "cell_type": "code",
   "execution_count": 6,
   "metadata": {},
   "outputs": [
    {
     "name": "stdout",
     "output_type": "stream",
     "text": [
      "[ 1000  3000  5000  8000  6500  7000 15000 20000 21000 25000 27000 30000\n",
      " 52000 80000]\n"
     ]
    }
   ],
   "source": [
    "#Step 4: Select all rows and col2 from dataset to 'y'\n",
    "y= dataset[:,2].astype(int)\n",
    "print(y)"
   ]
  },
  {
   "cell_type": "code",
   "execution_count": 7,
   "metadata": {},
   "outputs": [
    {
     "data": {
      "text/plain": [
       "DecisionTreeRegressor(ccp_alpha=0.0, criterion='mse', max_depth=None,\n",
       "                      max_features=None, max_leaf_nodes=None,\n",
       "                      min_impurity_decrease=0.0, min_impurity_split=None,\n",
       "                      min_samples_leaf=1, min_samples_split=2,\n",
       "                      min_weight_fraction_leaf=0.0, presort='deprecated',\n",
       "                      random_state=0, splitter='best')"
      ]
     },
     "execution_count": 7,
     "metadata": {},
     "output_type": "execute_result"
    }
   ],
   "source": [
    "#Step 5: Fit decision tree regressor\n",
    "\n",
    "from sklearn.tree import DecisionTreeRegressor\n",
    "\n",
    "reg= DecisionTreeRegressor(random_state =0)\n",
    "reg.fit(X,y)"
   ]
  },
  {
   "cell_type": "code",
   "execution_count": 10,
   "metadata": {},
   "outputs": [
    {
     "name": "stdout",
     "output_type": "stream",
     "text": [
      "Predicted price= 8000 \n"
     ]
    }
   ],
   "source": [
    "#step 6: Predict new value\n",
    "y_pred= reg.predict([[3750]])\n",
    "print(\"Predicted price= %d \"%y_pred)"
   ]
  },
  {
   "cell_type": "code",
   "execution_count": 12,
   "metadata": {},
   "outputs": [
    {
     "data": {
      "image/png": "[encoded data removed]",
      "text/plain": [
       "<Figure size 432x288 with 1 Axes>"
      ]
     },
     "metadata": {
      "needs_background": "light"
     },
     "output_type": "display_data"
    }
   ],
   "source": [
    "#step 7: Visualize the result\n",
    "\n",
    "X_grid = np.arange(min(X),max(X),0.01)\n",
    "\n",
    "X_grid= X_grid.reshape((len(X_grid),1))\n",
    "\n",
    "plt.scatter(X,y,color='red')\n",
    "plt.plot(X_grid,reg.predict(X_grid),color='blue')\n",
    "plt.title(\"Profit to Production Cost(Decision Tree Regression)\")\n",
    "plt.xlabel('Production Cost')\n",
    "plt.ylabel('Profit')\n",
    "plt.show()"
   ]
  },
  {
   "cell_type": "code",
   "execution_count": 15,
   "metadata": {},
   "outputs": [],
   "source": [
    "#Step 8: Export tree structure\n",
    "from sklearn.tree import export_graphviz\n",
    "export_graphviz(reg,out_file='tree.dot',feature_names=['Production Cost'])"
   ]
  }
 ],
 "metadata": {
  "kernelspec": {
   "display_name": "Python 3",
   "language": "python",
   "name": "python3"
  },
  "language_info": {
   "codemirror_mode": {
    "name": "ipython",
    "version": 3
   },
   "file_extension": ".py",
   "mimetype": "text/x-python",
   "name": "python",
   "nbconvert_exporter": "python",
   "pygments_lexer": "ipython3",
   "version": "3.7.6"
  }
 },
 "nbformat": 4,
 "nbformat_minor": 4
}
